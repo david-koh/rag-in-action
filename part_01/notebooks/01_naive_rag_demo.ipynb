{
 "cells": [
  {
   "cell_type": "markdown",
   "metadata": {},
   "source": [
    "# RAG in Action - Part 1: Naive RAG Demo\n",
    "\n",
    "A complete demonstration of building a basic RAG system with Apple's 2023 10-K filing"
   ]
  },
  {
   "cell_type": "markdown",
   "metadata": {},
   "source": [
    "## Step 1: Download Data"
   ]
  },
  {
   "cell_type": "code",
   "execution_count": 1,
   "metadata": {},
   "outputs": [
    {
     "name": "stdout",
     "output_type": "stream",
     "text": [
      "File already exists: /Users/kakao/Dev/personal/medium/RAG in Action/rag-in-action-series/part_01/data/apple_10k_2023.pdf\n",
      "Downloaded: /Users/kakao/Dev/personal/medium/RAG in Action/rag-in-action-series/part_01/data/apple_10k_2023.pdf\n"
     ]
    }
   ],
   "source": [
    "import sys\n",
    "from pathlib import Path\n",
    "\n",
    "# Add parent directory to path\n",
    "sys.path.append(str(Path().absolute().parent))\n",
    "\n",
    "from data.download_data import download_apple_10k\n",
    "\n",
    "# Download Apple 10-K report\n",
    "file_path = download_apple_10k()\n",
    "print(f\"Downloaded: {file_path}\")"
   ]
  },
  {
   "cell_type": "markdown",
   "metadata": {},
   "source": [
    "## Step 2: Test LLM Limitations (Before RAG)"
   ]
  },
  {
   "cell_type": "code",
   "execution_count": 2,
   "metadata": {},
   "outputs": [
    {
     "name": "stdout",
     "output_type": "stream",
     "text": [
      "🚫 LLM WITHOUT RAG\n",
      "==================================================\n",
      "Question: What was Apple's total revenue in 2023? Please provide the exact number.\n",
      "Answer: I don't have information on Apple's revenue for 2023 as I'm a large language model, my training data only goes up to 2022 and does not include real-time updates or future financial data.\n",
      "\n",
      "However, you can check Apple's official investor relations website (investors.apple.com) for the most recent financial reports. They release their annual reports around late January of each year.\n",
      "Response time: 4.06s\n",
      "Source: ❌ None (relies on parameter memory only)\n"
     ]
    }
   ],
   "source": [
    "import ollama\n",
    "import time\n",
    "\n",
    "question = \"What was Apple's total revenue in 2023? Please provide the exact number.\"\n",
    "\n",
    "print(\"🚫 LLM WITHOUT RAG\")\n",
    "print(\"=\" * 50)\n",
    "\n",
    "start_time = time.time()\n",
    "response = ollama.chat(\n",
    "    model='llama3.1:8b',\n",
    "    messages=[{'role': 'user', 'content': question}]\n",
    ")\n",
    "llm_time = time.time() - start_time\n",
    "\n",
    "print(f\"Question: {question}\")\n",
    "print(f\"Answer: {response['message']['content']}\")\n",
    "print(f\"Response time: {llm_time:.2f}s\")\n",
    "print(f\"Source: ❌ None (relies on parameter memory only)\")\n",
    "\n",
    "llm_response = response['message']['content']"
   ]
  },
  {
   "cell_type": "markdown",
   "metadata": {},
   "source": [
    "## Step 3: Load and Process Documents"
   ]
  },
  {
   "cell_type": "code",
   "execution_count": 3,
   "metadata": {},
   "outputs": [
    {
     "name": "stdout",
     "output_type": "stream",
     "text": [
      "Using device: mps\n",
      "Loaded 80 pages\n",
      "Created 358 chunks\n"
     ]
    }
   ],
   "source": [
    "import torch\n",
    "from langchain.document_loaders import PyPDFLoader\n",
    "from langchain.text_splitter import RecursiveCharacterTextSplitter\n",
    "\n",
    "# Check device availability\n",
    "device = 'mps' if torch.backends.mps.is_available() else 'cpu'\n",
    "print(f\"Using device: {device}\")\n",
    "\n",
    "# Load PDF\n",
    "loader = PyPDFLoader(file_path)\n",
    "documents = loader.load()\n",
    "print(f\"Loaded {len(documents)} pages\")\n",
    "\n",
    "# Split documents into chunks\n",
    "text_splitter = RecursiveCharacterTextSplitter(\n",
    "    chunk_size=1000,\n",
    "    chunk_overlap=200,\n",
    "    separators=[\"\\n\\n\", \"\\n\", \" \", \"\"]\n",
    ")\n",
    "chunks = text_splitter.split_documents(documents)\n",
    "print(f\"Created {len(chunks)} chunks\")"
   ]
  },
  {
   "cell_type": "markdown",
   "metadata": {},
   "source": [
    "## Step 4: Create Embeddings and Vector Store"
   ]
  },
  {
   "cell_type": "code",
   "execution_count": 11,
   "metadata": {},
   "outputs": [
    {
     "name": "stdout",
     "output_type": "stream",
     "text": [
      "📥 Loading embedding model...\n",
      "⏰ First run may take 1-2 minutes for model download\n",
      "✅ Embedding model loaded!\n",
      "🔄 Creating vector store...\n",
      "✅ Vector store created in 1.19s\n",
      "📊 Stored 358 document chunks\n"
     ]
    }
   ],
   "source": [
    "from langchain.embeddings import HuggingFaceEmbeddings\n",
    "from langchain.vectorstores import Qdrant\n",
    "from qdrant_client import QdrantClient\n",
    "from qdrant_client.models import Distance, VectorParams\n",
    "\n",
    "print(\"📥 Loading embedding model...\")\n",
    "print(\"⏰ First run may take 1-2 minutes for model download\")\n",
    "\n",
    "# Initialize embeddings with Mac M1 optimization\n",
    "embeddings = HuggingFaceEmbeddings(\n",
    "    model_name=\"sentence-transformers/all-MiniLM-L6-v2\",\n",
    "    model_kwargs={'device': device},\n",
    "    encode_kwargs={'normalize_embeddings': True}\n",
    ")\n",
    "\n",
    "print(\"✅ Embedding model loaded!\")\n",
    "print(\"🔄 Creating vector store...\")\n",
    "\n",
    "# Create vector store\n",
    "start_time = time.time()\n",
    "\n",
    "vector_store = Qdrant.from_documents(\n",
    "    chunks,\n",
    "    embeddings,\n",
    "    location=\":memory:\",\n",
    "    collection_name=\"apple_10k\"\n",
    ")\n",
    "\n",
    "embedding_time = time.time() - start_time\n",
    "\n",
    "print(f\"✅ Vector store created in {embedding_time:.2f}s\")\n",
    "print(f\"📊 Stored {len(chunks)} document chunks\")"
   ]
  },
  {
   "cell_type": "markdown",
   "metadata": {},
   "source": [
    "## Step 5: Build RAG Pipeline"
   ]
  },
  {
   "cell_type": "code",
   "execution_count": 12,
   "metadata": {},
   "outputs": [
    {
     "name": "stdout",
     "output_type": "stream",
     "text": [
      "\n",
      "✅ RAG SYSTEM WITH CONTEXT\n",
      "==================================================\n",
      "🔍 Found 5 relevant documents\n",
      "Question: What are the main risk factors for Apple?\n",
      "Answer: Based on Apple's 2023 10-K filing, the main risk factors for Apple include:\n",
      "\n",
      "1. **Quality and product issues**: Failure to detect and fix all issues and defects in hardware, software, and services can result in widespread technical and performance issues affecting products and services.\n",
      "2. **Product liability claims, recalls, and warranty expenses**: Exposure to product liability claims, recalls, product replacements or modifications, write-offs of inventory, property, plant and equipment, or intangible assets, and significant warranty and other expenses, including litigation costs and regulatory fines.\n",
      "3. **Reputation damage**: Quality problems can harm the Company's reputation, loss of competitive advantage, poor market acceptance, reduced demand for products and services, delay in new product introductions, and lost sales.\n",
      "4. **External disruptions**: Impact from political events, trade and other international disputes, war, terrorism, natural disasters, public health issues, industrial accidents, and other business interruptions can harm or disrupt international commerce and the global economy, affecting Apple's customers, suppliers, contract manufacturers, logistics providers, distributors, cellular network carriers, and channel partners.\n",
      "5. **Dependence on third-party software developers**: The Company relies on third-party software developers to create compelling and innovative applications for its products. If these developers fail to keep up with technological changes or choose not to do so, their applications can operate incorrectly, leading to dissatisfied customers and lower customer demand for Apple's products.\n",
      "6. **Insufficient insurance coverage**: While the Company maintains insurance coverage for certain types of claims, this coverage may be insufficient to cover all losses or all types of claims that may arise.\n",
      "\n",
      "These risk factors are highlighted in various sections of Apple's 10-K filing, including Item 1A. Risk Factors (pp. 5-7) and other sections such as Item 9A. Controls and Procedures (p. 52).\n",
      "Response time: 19.90s\n",
      "Source: ✅ 5 documents from 2023 10-K filing\n"
     ]
    }
   ],
   "source": [
    "print(\"\\n✅ RAG SYSTEM WITH CONTEXT\")\n",
    "print(\"=\" * 50)\n",
    "\n",
    "# Retrieve relevant documents\n",
    "retriever = vector_store.as_retriever(search_kwargs={\"k\": 5})\n",
    "docs = retriever.invoke(question)\n",
    "\n",
    "print(f\"🔍 Found {len(docs)} relevant documents\")\n",
    "\n",
    "# Combine retrieved context\n",
    "context = \"\\n\\n\".join([doc.page_content for doc in docs])\n",
    "\n",
    "# Create RAG prompt\n",
    "prompt = f\"\"\"\n",
    "Based on the following information from Apple's 2023 10-K filing, answer the question accurately:\n",
    "\n",
    "Context:\n",
    "{context}\n",
    "\n",
    "Question: {question}\n",
    "\n",
    "Answer: Please provide a specific answer based on the provided context.\n",
    "\"\"\"\n",
    "\n",
    "# Generate RAG response\n",
    "start_time = time.time()\n",
    "rag_response = ollama.chat(\n",
    "    model='llama3.1:8b',\n",
    "    messages=[{'role': 'user', 'content': prompt}]\n",
    ")\n",
    "rag_time = time.time() - start_time\n",
    "\n",
    "print(f\"Question: {question}\")\n",
    "print(f\"Answer: {rag_response['message']['content']}\")\n",
    "print(f\"Response time: {rag_time:.2f}s\")\n",
    "print(f\"Source: ✅ {len(docs)} documents from 2023 10-K filing\")"
   ]
  },
  {
   "cell_type": "markdown",
   "metadata": {},
   "source": [
    "## Step 6: Compare Results"
   ]
  },
  {
   "cell_type": "code",
   "execution_count": 13,
   "metadata": {},
   "outputs": [
    {
     "name": "stdout",
     "output_type": "stream",
     "text": [
      "\n",
      "📊 COMPARISON RESULTS\n",
      "============================================================\n",
      "\n",
      "❌ LLM WITHOUT RAG:\n",
      "   I don't have information on Apple's revenue for 2023 as I'm a large language model, my training data only goes up to 2022 and does not include real-time updates or future financial data.\n",
      "\n",
      "However, you can check Apple's official investor relations website (investors.apple.com) for the most recent financial reports. They release their annual reports around late January of each year.\n",
      "   ⏱️  Response time: 4.06s\n",
      "   📄 Source: None\n",
      "   🎯 Reliability: Low (no verification possible)\n",
      "\n",
      "✅ LLM WITH RAG:\n",
      "   Based on Apple's 2023 10-K filing, the main risk factors for Apple include:\n",
      "\n",
      "1. **Quality and product issues**: Failure to detect and fix all issues and defects in hardware, software, and services can result in widespread technical and performance issues affecting products and services.\n",
      "2. **Product liability claims, recalls, and warranty expenses**: Exposure to product liability claims, recalls, product replacements or modifications, write-offs of inventory, property, plant and equipment, or intangible assets, and significant warranty and other expenses, including litigation costs and regulatory fines.\n",
      "3. **Reputation damage**: Quality problems can harm the Company's reputation, loss of competitive advantage, poor market acceptance, reduced demand for products and services, delay in new product introductions, and lost sales.\n",
      "4. **External disruptions**: Impact from political events, trade and other international disputes, war, terrorism, natural disasters, public health issues, industrial accidents, and other business interruptions can harm or disrupt international commerce and the global economy, affecting Apple's customers, suppliers, contract manufacturers, logistics providers, distributors, cellular network carriers, and channel partners.\n",
      "5. **Dependence on third-party software developers**: The Company relies on third-party software developers to create compelling and innovative applications for its products. If these developers fail to keep up with technological changes or choose not to do so, their applications can operate incorrectly, leading to dissatisfied customers and lower customer demand for Apple's products.\n",
      "6. **Insufficient insurance coverage**: While the Company maintains insurance coverage for certain types of claims, this coverage may be insufficient to cover all losses or all types of claims that may arise.\n",
      "\n",
      "These risk factors are highlighted in various sections of Apple's 10-K filing, including Item 1A. Risk Factors (pp. 5-7) and other sections such as Item 9A. Controls and Procedures (p. 52).\n",
      "   ⏱️  Response time: 19.90s\n",
      "   📄 Source: 5 documents\n",
      "   🎯 Reliability: High (traceable sources)\n",
      "\n",
      "📚 RETRIEVED SOURCES:\n",
      "   Source 1 (Page 10): Company’s services have not performed as anticipated and may not meet customer expectations. There c...\n",
      "   Source 2 (Page 7): The Company’s business can be impacted by political events, trade and other international disputes, ...\n",
      "   Source 3 (Page 14): of which could materially adversely affect the Company’s business, reputation, results of operations...\n",
      "\n",
      "============================================================\n",
      "💡 Why did this difference occur?\n",
      "============================================================\n",
      "\n",
      "Did you see that? The pure LLM without RAG avoided answering due to lack of recent information,\n",
      "but the RAG-applied system accurately referenced the 2023 10-K report we provided and\n",
      "generated answers with specific figures.\n",
      "\n",
      "We can even trace the documents that served as the basis for the answers.\n",
      "This is the power of RAG!\n",
      "\n"
     ]
    }
   ],
   "source": [
    "print(\"\\n📊 COMPARISON RESULTS\")\n",
    "print(\"=\" * 60)\n",
    "\n",
    "print(\"\\n❌ LLM WITHOUT RAG:\")\n",
    "print(f\"   {llm_response}\")\n",
    "print(f\"   ⏱️  Response time: {llm_time:.2f}s\")\n",
    "print(f\"   📄 Source: None\")\n",
    "print(f\"   🎯 Reliability: Low (no verification possible)\")\n",
    "\n",
    "print(\"\\n✅ LLM WITH RAG:\")\n",
    "print(f\"   {rag_response['message']['content']}\")\n",
    "print(f\"   ⏱️  Response time: {rag_time:.2f}s\")\n",
    "print(f\"   📄 Source: {len(docs)} documents\")\n",
    "print(f\"   🎯 Reliability: High (traceable sources)\")\n",
    "\n",
    "print(\"\\n📚 RETRIEVED SOURCES:\")\n",
    "for i, doc in enumerate(docs[:3], 1):\n",
    "    page_num = doc.metadata.get('page', 'Unknown')\n",
    "    print(f\"   Source {i} (Page {page_num}): {doc.page_content[:100]}...\")\n",
    "\n",
    "print(\"\\n\" + \"=\"*60)\n",
    "print(\"💡 Why did this difference occur?\")\n",
    "print(\"=\"*60)\n",
    "print(\"\"\"\n",
    "Did you see that? The pure LLM without RAG avoided answering due to lack of recent information,\n",
    "but the RAG-applied system accurately referenced the 2023 10-K report we provided and\n",
    "generated answers with specific figures.\n",
    "\n",
    "We can even trace the documents that served as the basis for the answers.\n",
    "This is the power of RAG!\n",
    "\"\"\")"
   ]
  },
  {
   "cell_type": "markdown",
   "metadata": {},
   "source": [
    "## Step 7: Test Additional Questions"
   ]
  },
  {
   "cell_type": "code",
   "execution_count": 10,
   "metadata": {},
   "outputs": [
    {
     "name": "stdout",
     "output_type": "stream",
     "text": [
      "\n",
      "🔍 ADDITIONAL TEST QUESTIONS\n",
      "==================================================\n",
      "\n",
      "✅ Success Cases:\n",
      "\n",
      "1. What are Apple's main business segments?\n",
      "   Answer: According to the text, Apple's main business segments are:\n",
      "\n",
      "1. Products:\n",
      "\t* Smartphones (iPhone line)\n",
      "\t* Personal computers (Mac line)\n",
      "\t* Tablets\n",
      "\t* W...\n",
      "\n",
      "2. What was Apple's gross margin in 2023?\n",
      "   Answer: Unfortunately, the provided text does not mention Apple's gross margin for 2023.\n",
      "\n",
      "However, we can infer that to find the gross margin, we would need t...\n",
      "\n",
      "3. What are the main risk factors for Apple?\n",
      "   Answer: Based on Apple's 2023 10-K filing, the main risk factors for Apple include:\n",
      "\n",
      "1. **Quality and product reliability issues**: Failure to detect and fix ...\n",
      "\n",
      "\n",
      "❌ Limitation Demonstration:\n",
      "Question: What was the market reaction to Apple Vision Pro's initial sales volume?\n",
      "Answer: There is no information in the provided text about Apple Vision Pro's initial sales volume or market reaction. The text does mention that Apple Vision Pro, a spatial computer featuring visionOS, \"is expected to be available in early calendar year 2024\", but it does not provide any details on its actual availability, sales, or market performance.\n",
      "\n",
      "============================================================\n",
      "🚨 Did you see the limitations of Naive RAG?\n",
      "============================================================\n",
      "\n",
      "The 2023 10-K report doesn't contain specific Vision Pro sales data.\n",
      "Naive RAG shows limitations when:\n",
      "- Keywords don't match exactly, or\n",
      "- Asked about content not in the documents\n",
      "\n",
      "In Part 2 and 3, we'll solve these problems by introducing:\n",
      "🔹 Advanced Qdrant filtering\n",
      "🔹 Hybrid search (semantic + keyword)  \n",
      "🔹 Query rewriting techniques\n",
      "\n"
     ]
    }
   ],
   "source": [
    "# Test additional questions\n",
    "test_questions = [\n",
    "    \"What are Apple's main business segments?\",\n",
    "    \"What was Apple's gross margin in 2023?\",\n",
    "    \"What are the main risk factors for Apple?\"\n",
    "]\n",
    "\n",
    "def ask_rag(question):\n",
    "    docs = retriever.invoke(question)\n",
    "    context = \"\\n\\n\".join([doc.page_content for doc in docs])\n",
    "    \n",
    "    prompt = f\"\"\"\n",
    "Based on Apple's 2023 10-K filing:\n",
    "\n",
    "{context}\n",
    "\n",
    "Question: {question}\n",
    "Answer:\"\"\"\n",
    "    \n",
    "    response = ollama.chat(\n",
    "        model='llama3.1:8b',\n",
    "        messages=[{'role': 'user', 'content': prompt}]\n",
    "    )\n",
    "    \n",
    "    return response['message']['content']\n",
    "\n",
    "print(\"\\n🔍 ADDITIONAL TEST QUESTIONS\")\n",
    "print(\"=\" * 50)\n",
    "\n",
    "print(\"\\n✅ Success Cases:\")\n",
    "for i, question in enumerate(test_questions, 1):\n",
    "    print(f\"\\n{i}. {question}\")\n",
    "    answer = ask_rag(question)\n",
    "    print(f\"   Answer: {answer[:150]}...\")\n",
    "\n",
    "# Demonstrate limitations\n",
    "failure_question = \"What was the market reaction to Apple Vision Pro's initial sales volume?\"\n",
    "\n",
    "print(\"\\n\\n❌ Limitation Demonstration:\")\n",
    "print(f\"Question: {failure_question}\")\n",
    "failure_answer = ask_rag(failure_question)\n",
    "print(f\"Answer: {failure_answer}\")\n",
    "\n",
    "print(\"\\n\" + \"=\"*60)\n",
    "print(\"🚨 Did you see the limitations of Naive RAG?\")\n",
    "print(\"=\"*60)\n",
    "print(\"\"\"\n",
    "The 2023 10-K report doesn't contain specific Vision Pro sales data.\n",
    "Naive RAG shows limitations when:\n",
    "- Keywords don't match exactly, or\n",
    "- Asked about content not in the documents\n",
    "\n",
    "In Part 2 and 3, we'll solve these problems by introducing:\n",
    "🔹 Advanced Qdrant filtering\n",
    "🔹 Hybrid search (semantic + keyword)  \n",
    "🔹 Query rewriting techniques\n",
    "\"\"\")"
   ]
  },
  {
   "cell_type": "code",
   "execution_count": null,
   "metadata": {},
   "outputs": [],
   "source": [
    "# Test additional questions\n",
    "test_questions = [\n",
    "    \"What are Apple's main business segments?\",\n",
    "    \"What was Apple's gross margin in 2023?\",\n",
    "    \"What are the main risk factors for Apple?\"\n",
    "]\n",
    "\n",
    "def ask_rag(question):\n",
    "    docs = retriever.invoke(question)\n",
    "    context = \"\\n\\n\".join([doc.page_content for doc in docs])\n",
    "    \n",
    "    prompt = f\"\"\"\n",
    "Based on Apple's 2023 10-K filing:\n",
    "\n",
    "{context}\n",
    "\n",
    "Question: {question}\n",
    "Answer:\"\"\"\n",
    "    \n",
    "    response = ollama.chat(\n",
    "        model='llama3.1:8b',\n",
    "        messages=[{'role': 'user', 'content': prompt}]\n",
    "    )\n",
    "    \n",
    "    return response['message']['content']\n",
    "\n",
    "print(\"\\n🔍 ADDITIONAL TEST QUESTIONS\")\n",
    "print(\"=\" * 50)\n",
    "\n",
    "print(\"\\n✅ Success Cases:\")\n",
    "for i, question in enumerate(test_questions, 1):\n",
    "    print(f\"\\n{i}. {question}\")\n",
    "    answer = ask_rag(question)\n",
    "    print(f\"   Answer: {answer[:150]}...\")\n",
    "\n",
    "# Demonstrate limitations\n",
    "failure_question = \"What was the market reaction to Apple Vision Pro's initial sales volume?\"\n",
    "\n",
    "print(\"\\n\\n❌ Limitation Demonstration:\")\n",
    "print(f\"Question: {failure_question}\")\n",
    "failure_answer = ask_rag(failure_question)\n",
    "print(f\"Answer: {failure_answer}\")\n",
    "\n",
    "print(\"\\n\" + \"=\"*60)\n",
    "print(\"🚨 Did you see the limitations of Naive RAG?\")\n",
    "print(\"=\"*60)\n",
    "print(\"\"\"\n",
    "The 2023 10-K report doesn't contain specific Vision Pro sales data.\n",
    "Naive RAG shows limitations when:\n",
    "- Keywords don't match exactly, or\n",
    "- Asked about content not in the documents\n",
    "\n",
    "In Part 2 and 3, we'll solve these problems by introducing:\n",
    "🔹 Advanced Qdrant filtering\n",
    "🔹 Hybrid search (semantic + keyword)  \n",
    "🔹 Query rewriting techniques\n",
    "\"\"\")"
   ]
  },
  {
   "cell_type": "markdown",
   "metadata": {},
   "source": [
    "### Implementation Note:\n",
    "We implemented RAG manually step-by-step for educational purposes. LangChain provides higher-level abstractions like `RetrievalQA` chains that can make this process more concise, but understanding the underlying mechanics helps you customize and debug your RAG systems more effectively."
   ]
  },
  {
   "cell_type": "markdown",
   "metadata": {},
   "source": [
    "## Summary\n",
    "\n",
    "🎉 **You've successfully built your first RAG system!**\n",
    "\n",
    "### What we accomplished:\n",
    "- ✅ Downloaded and processed Apple's 2023 10-K filing\n",
    "- ✅ Implemented document chunking strategy  \n",
    "- ✅ Created embeddings using free, local models\n",
    "- ✅ Set up Qdrant vector database\n",
    "- ✅ Built a complete RAG pipeline\n",
    "- ✅ Demonstrated clear improvements over vanilla LLM\n",
    "\n",
    "### Key improvements with RAG:\n",
    "1. **Factual accuracy** - Based on real documents\n",
    "2. **Source traceability** - Can verify information\n",
    "3. **Up-to-date information** - Uses latest 2023 data\n",
    "4. **Reduced hallucination** - Grounded in provided context\n",
    "5. **Domain expertise** - Specialized financial knowledge"
   ]
  }
 ],
 "metadata": {
  "kernelspec": {
   "display_name": "Python 3 (ipykernel)",
   "language": "python",
   "name": "python3"
  },
  "language_info": {
   "codemirror_mode": {
    "name": "ipython",
    "version": 3
   },
   "file_extension": ".py",
   "mimetype": "text/x-python",
   "name": "python",
   "nbconvert_exporter": "python",
   "pygments_lexer": "ipython3",
   "version": "3.10.18"
  }
 },
 "nbformat": 4,
 "nbformat_minor": 4
}
